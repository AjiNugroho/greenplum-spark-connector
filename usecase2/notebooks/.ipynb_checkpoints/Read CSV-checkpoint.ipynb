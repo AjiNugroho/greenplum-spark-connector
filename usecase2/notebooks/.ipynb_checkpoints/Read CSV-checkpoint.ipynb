{
 "cells": [
  {
   "cell_type": "code",
   "execution_count": null,
   "metadata": {},
   "outputs": [],
   "source": [
    "val textFile = spark.read.textFile(\"/home/jovyan/work/data/imdb_master.csv\")\n",
    "\n",
    "textFile.count() \n",
    "\n",
    "textFile.printSchema()\n",
    "\n",
    "textFile.show()\n",
    "\n",
    "textFile.first() // F\n",
    "\n",
    "\n",
    "val linesWithSpark = textFile.filter(line => line.contains(\"review\"))"
   ]
  },
  {
   "cell_type": "code",
   "execution_count": null,
   "metadata": {},
   "outputs": [],
   "source": [
    "%AddJar file:///home/jovyan/work/data/postgresql-42.2.2.jre7.jar\n",
    "%AddJar file:///home/jovyan/work/data/greenplum-spark_2.11-1.5.0.jar\n",
    "\n",
    "\n"
   ]
  },
  {
   "cell_type": "code",
   "execution_count": null,
   "metadata": {},
   "outputs": [],
   "source": [
    "Class.forName(\"org.postgresql.Driver\")\n",
    "\n",
    "Class.forName(\"io.pivotal.greenplum.spark.GreenplumRelationProvider\")\n"
   ]
  },
  {
   "cell_type": "code",
   "execution_count": null,
   "metadata": {},
   "outputs": [],
   "source": [
    "// https://dzone.com/articles/parsing-and-querying-csv-apache-spark\n",
    "\n",
    "import org.apache.spark.sql.SQLContext\n",
    "\n",
    "\n",
    "val sqlContext = new SQLContext(sc)\n",
    "\n",
    "// val df = sqlContext.read.format(\"csv\").load(\"/home/jovyan/work/data/imdb_master.csv\")\n",
    "// df.printSchema()\n",
    "\n",
    "\n",
    " val imdb_master = sqlContext.read.format(\"csv\")\n",
    "   .option(\"header\", \"true\")\n",
    "   .option(\"inferSchema\", \"true\")\n",
    "   .load(\"/home/jovyan/work/data/imdb_master.csv\")\n",
    "imdb_master.printSchema()\n",
    "\n",
    "\n",
    "val selectedType = imdb_master.select(\"type\")\n",
    "  selectedType.write.mode(\"Append\").save(\"/home/jovyan/work/data/type.csv\")\n",
    "selectedType.show()\n",
    "\n",
    "\n",
    "\n",
    " val tempTable = imdb_master.registerTempTable(\"my_table\")\n",
    "  //makes a temporary table\n",
    "  val usingSQL = sqlContext\n",
    "    .sql(\"select * from my_table\") \n",
    "//show all the csv file's data in temp table\n",
    "  usingSQL.show()\n",
    "\n"
   ]
  },
  {
   "cell_type": "code",
   "execution_count": null,
   "metadata": {},
   "outputs": [],
   "source": [
    "val dataFrame = spark.read.format(\"io.pivotal.greenplum.spark.GreenplumRelationProvider\")\n",
    ".option(\"dbtable\", \"usertable\")\n",
    ".option(\"url\", \"jdbc:postgresql://gpdbsne/basic_db\")\n",
    ".option(\"user\", \"gpadmin\")\n",
    ".option(\"password\", \"pivotal\")\n",
    ".option(\"driver\", \"org.postgresql.Driver\")\n",
    ".option(\"partitionColumn\", \"id\")\n",
    ".load()\n",
    "\n",
    "//.option(\"partitionColumn\", \"id\")\n"
   ]
  },
  {
   "cell_type": "code",
   "execution_count": null,
   "metadata": {},
   "outputs": [],
   "source": []
  }
 ],
 "metadata": {
  "kernelspec": {
   "display_name": "Apache Toree - Scala",
   "language": "scala",
   "name": "apache_toree_scala"
  },
  "language_info": {
   "codemirror_mode": "text/x-scala",
   "file_extension": ".scala",
   "mimetype": "text/x-scala",
   "name": "scala",
   "pygments_lexer": "scala",
   "version": "2.11.8"
  }
 },
 "nbformat": 4,
 "nbformat_minor": 2
}
