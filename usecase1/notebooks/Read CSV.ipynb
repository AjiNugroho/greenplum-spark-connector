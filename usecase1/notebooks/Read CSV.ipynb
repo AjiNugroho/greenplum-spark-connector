{
 "cells": [
  {
   "cell_type": "code",
   "execution_count": 8,
   "metadata": {},
   "outputs": [
    {
     "name": "stdout",
     "output_type": "stream",
     "text": [
      "root\n",
      " |-- value: string (nullable = true)\n",
      "\n",
      "+--------------------+\n",
      "|               value|\n",
      "+--------------------+\n",
      "|,type,review,labe...|\n",
      "|0,test,\"Once agai...|\n",
      "|1,test,\"This is a...|\n",
      "|2,test,\"First of ...|\n",
      "|3,test,\"Not even ...|\n",
      "|4,test,\"Brass pic...|\n",
      "|5,test,\"A funny t...|\n",
      "|6,test,\"This Germ...|\n",
      "|7,test,\"Being a l...|\n",
      "|8,test,\"\"\"Tokyo E...|\n",
      "|9,test,\"Wealthy h...|\n",
      "|10,test,\"Cage pla...|\n",
      "|11,test,\"First of...|\n",
      "|12,test,\"So tell ...|\n",
      "|13,test,\"A big di...|\n",
      "|14,test,\"This fil...|\n",
      "|15,test,\"Here's a...|\n",
      "|16,test,\"At the b...|\n",
      "|17,test,\"Earth ha...|\n",
      "|18,test,\"Many peo...|\n",
      "+--------------------+\n",
      "only showing top 20 rows\n",
      "\n"
     ]
    },
    {
     "data": {
      "text/plain": [
       "textFile = [value: string]\n",
       "linesWithSpark = [value: string]\n"
      ]
     },
     "metadata": {},
     "output_type": "display_data"
    },
    {
     "data": {
      "text/plain": [
       "[value: string]"
      ]
     },
     "execution_count": 8,
     "metadata": {},
     "output_type": "execute_result"
    }
   ],
   "source": [
    "val textFile = spark.read.textFile(\"/home/jovyan/work/data/imdb_master.csv\")\n",
    "\n",
    "textFile.count() \n",
    "\n",
    "textFile.printSchema()\n",
    "\n",
    "textFile.show()\n",
    "\n",
    "textFile.first() // F\n",
    "\n",
    "\n",
    "val linesWithSpark = textFile.filter(line => line.contains(\"review\"))"
   ]
  },
  {
   "cell_type": "code",
   "execution_count": 4,
   "metadata": {},
   "outputs": [
    {
     "data": {
      "text/plain": [
       "Name: java.lang.ClassNotFoundException\n",
       "Message: io.pivotal.greenplum.spark.GreenplumRelationProvider\n",
       "StackTrace:   at scala.reflect.internal.util.AbstractFileClassLoader.findClass(AbstractFileClassLoader.scala:62)\n",
       "  at java.lang.ClassLoader.loadClass(ClassLoader.java:424)\n",
       "  at java.lang.ClassLoader.loadClass(ClassLoader.java:357)\n",
       "  at java.lang.Class.forName0(Native Method)\n",
       "  at java.lang.Class.forName(Class.java:264)"
      ]
     },
     "execution_count": 4,
     "metadata": {},
     "output_type": "execute_result"
    }
   ],
   "source": []
  },
  {
   "cell_type": "code",
   "execution_count": 6,
   "metadata": {},
   "outputs": [
    {
     "name": "stdout",
     "output_type": "stream",
     "text": [
      "Using cached version of postgresql-42.2.2.jre7.jar\n"
     ]
    },
    {
     "data": {
      "text/plain": [
       "lastException: Throwable = null\n"
      ]
     },
     "metadata": {},
     "output_type": "display_data"
    },
    {
     "name": "stdout",
     "output_type": "stream",
     "text": [
      "Starting download from file:///home/jovyan/work/data/greenplum-spark_2.11-1.4.0-alpha-21-g3d01ce6-SNAPSHOT.jar\n",
      "Finished download of greenplum-spark_2.11-1.4.0-alpha-21-g3d01ce6-SNAPSHOT.jar\n"
     ]
    }
   ],
   "source": [
    "%AddJar file:///home/jovyan/work/data/postgresql-42.2.2.jre7.jar\n",
    "%AddJar file:///home/jovyan/work/data/greenplum-spark_2.11-1.4.0-alpha-21-g3d01ce6-SNAPSHOT.jar\n",
    "\n",
    "\n"
   ]
  },
  {
   "cell_type": "code",
   "execution_count": 7,
   "metadata": {},
   "outputs": [
    {
     "data": {
      "text/plain": [
       "class io.pivotal.greenplum.spark.GreenplumRelationProvider"
      ]
     },
     "execution_count": 7,
     "metadata": {},
     "output_type": "execute_result"
    }
   ],
   "source": [
    "Class.forName(\"org.postgresql.Driver\")\n",
    "\n",
    "Class.forName(\"io.pivotal.greenplum.spark.GreenplumRelationProvider\")\n"
   ]
  },
  {
   "cell_type": "code",
   "execution_count": 34,
   "metadata": {},
   "outputs": [
    {
     "name": "stdout",
     "output_type": "stream",
     "text": [
      "root\n",
      " |-- _c0: integer (nullable = true)\n",
      " |-- type: string (nullable = true)\n",
      " |-- review: string (nullable = true)\n",
      " |-- label: string (nullable = true)\n",
      " |-- file: string (nullable = true)\n",
      "\n",
      "+----+\n",
      "|type|\n",
      "+----+\n",
      "|test|\n",
      "|test|\n",
      "|test|\n",
      "|test|\n",
      "|test|\n",
      "|test|\n",
      "|test|\n",
      "|test|\n",
      "|test|\n",
      "|test|\n",
      "|test|\n",
      "|test|\n",
      "|test|\n",
      "|test|\n",
      "|test|\n",
      "|test|\n",
      "|test|\n",
      "|test|\n",
      "|test|\n",
      "|test|\n",
      "+----+\n",
      "only showing top 20 rows\n",
      "\n",
      "+---+----+--------------------+--------------------+--------------------+\n",
      "|_c0|type|              review|               label|                file|\n",
      "+---+----+--------------------+--------------------+--------------------+\n",
      "|  0|test|Once again Mr. Co...|                 neg|             0_2.txt|\n",
      "|  1|test|This is an exampl...|                 neg|         10000_4.txt|\n",
      "|  2|test|First of all I ha...|                 neg|         10001_1.txt|\n",
      "|  3|test|Not even the Beat...|                 neg|         10002_3.txt|\n",
      "|  4|test|Brass pictures (m...|                 neg|         10003_3.txt|\n",
      "|  5|test|\"A funny thing ha...| the hero is a de...|           excuse me|\n",
      "|  6|test|This German horro...|                 neg|         10005_2.txt|\n",
      "|  7|test|\"Being a long-tim...| plots and twists...|         forcedly so|\n",
      "|  8|test|\"\"\"Tokyo Eyes\"\" t...|                talk| and more talk. Y...|\n",
      "|  9|test|Wealthy horse ran...|                 neg|         10008_4.txt|\n",
      "| 10|test|\"Cage plays a dru...|                 neg|         10009_3.txt|\n",
      "| 11|test|First of all, I w...|                 neg|          1000_3.txt|\n",
      "| 12|test|So tell me - what...|                 neg|         10010_2.txt|\n",
      "| 13|test|A big disappointm...|                 neg|         10011_1.txt|\n",
      "| 14|test|This film is abso...|                 neg|         10012_1.txt|\n",
      "| 15|test|Here's a decidedl...|                 neg|         10013_4.txt|\n",
      "| 16|test|At the bottom end...|                 neg|         10014_2.txt|\n",
      "| 17|test|Earth has been de...|                 neg|         10015_4.txt|\n",
      "| 18|test|Many people are s...|                 neg|         10016_3.txt|\n",
      "| 19|test|\"New York family ...| as Niven's daugh...|                 neg|\n",
      "+---+----+--------------------+--------------------+--------------------+\n",
      "only showing top 20 rows\n",
      "\n"
     ]
    },
    {
     "data": {
      "text/plain": [
       "sqlContext = org.apache.spark.sql.SQLContext@1baf1424\n",
       "imdb_master = [_c0: int, type: string ... 3 more fields]\n",
       "selectedType = [type: string]\n",
       "usingSQL = [_c0: int, type: string ... 3 more fields]\n"
      ]
     },
     "metadata": {},
     "output_type": "display_data"
    },
    {
     "data": {
      "text/plain": [
       "warning: there were two deprecation warnings; re-run with -deprecation for details\n",
       "tempTable: Unit = ()\n"
      ]
     },
     "metadata": {},
     "output_type": "display_data"
    },
    {
     "data": {
      "text/plain": [
       "[_c0: int, type: string ... 3 more fields]"
      ]
     },
     "execution_count": 34,
     "metadata": {},
     "output_type": "execute_result"
    }
   ],
   "source": [
    "// https://dzone.com/articles/parsing-and-querying-csv-apache-spark\n",
    "\n",
    "import org.apache.spark.sql.SQLContext\n",
    "\n",
    "\n",
    "val sqlContext = new SQLContext(sc)\n",
    "\n",
    "// val df = sqlContext.read.format(\"csv\").load(\"/home/jovyan/work/data/imdb_master.csv\")\n",
    "// df.printSchema()\n",
    "\n",
    "\n",
    " val imdb_master = sqlContext.read.format(\"csv\")\n",
    "   .option(\"header\", \"true\")\n",
    "   .option(\"inferSchema\", \"true\")\n",
    "   .load(\"/home/jovyan/work/data/imdb_master.csv\")\n",
    "imdb_master.printSchema()\n",
    "\n",
    "\n",
    "val selectedType = imdb_master.select(\"type\")\n",
    "  selectedType.write.mode(\"Append\").save(\"/home/jovyan/work/data/type.csv\")\n",
    "selectedType.show()\n",
    "\n",
    "\n",
    "\n",
    " val tempTable = imdb_master.registerTempTable(\"my_table\")\n",
    "  //makes a temporary table\n",
    "  val usingSQL = sqlContext\n",
    "    .sql(\"select * from my_table\") \n",
    "//show all the csv file's data in temp table\n",
    "  usingSQL.show()\n",
    "\n"
   ]
  },
  {
   "cell_type": "code",
   "execution_count": 16,
   "metadata": {},
   "outputs": [
    {
     "data": {
      "text/plain": [
       "lastException = null\n"
      ]
     },
     "metadata": {},
     "output_type": "display_data"
    },
    {
     "data": {
      "text/plain": [
       "Name: java.lang.NoSuchMethodError\n",
       "Message: org.apache.spark.sql.execution.datasources.jdbc.JdbcUtils$.getSchema(Ljava/sql/ResultSet;Lorg/apache/spark/sql/jdbc/JdbcDialect;)Lorg/apache/spark/sql/types/StructType;\n",
       "StackTrace:   at io.pivotal.greenplum.spark.GreenplumRelationProvider.createRelation(GreenplumRelationProvider.scala:29)\n",
       "  at org.apache.spark.sql.execution.datasources.DataSource.resolveRelation(DataSource.scala:340)\n",
       "  at org.apache.spark.sql.DataFrameReader.loadV1Source(DataFrameReader.scala:239)\n",
       "  at org.apache.spark.sql.DataFrameReader.load(DataFrameReader.scala:227)\n",
       "  at org.apache.spark.sql.DataFrameReader.load(DataFrameReader.scala:164)"
      ]
     },
     "execution_count": 16,
     "metadata": {},
     "output_type": "execute_result"
    }
   ],
   "source": [
    "val dataFrame = spark.read.format(\"io.pivotal.greenplum.spark.GreenplumRelationProvider\")\n",
    ".option(\"dbtable\", \"usertable\")\n",
    ".option(\"url\", \"jdbc:postgresql://gpdbsne/basic_db\")\n",
    ".option(\"user\", \"gpadmin\")\n",
    ".option(\"password\", \"pivotal\")\n",
    ".option(\"driver\", \"org.postgresql.Driver\")\n",
    ".option(\"partitionColumn\", \"id\")\n",
    ".load()\n",
    "\n",
    "//.option(\"partitionColumn\", \"id\")\n"
   ]
  },
  {
   "cell_type": "code",
   "execution_count": null,
   "metadata": {},
   "outputs": [],
   "source": []
  }
 ],
 "metadata": {
  "kernelspec": {
   "display_name": "Apache Toree - Scala",
   "language": "scala",
   "name": "apache_toree_scala"
  },
  "language_info": {
   "codemirror_mode": "text/x-scala",
   "file_extension": ".scala",
   "mimetype": "text/x-scala",
   "name": "scala",
   "pygments_lexer": "scala",
   "version": "2.11.8"
  }
 },
 "nbformat": 4,
 "nbformat_minor": 2
}
